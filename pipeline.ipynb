{
 "cells": [
  {
   "cell_type": "markdown",
   "metadata": {},
   "source": [
    "# Training Pipeline"
   ]
  },
  {
   "cell_type": "code",
   "execution_count": 70,
   "metadata": {},
   "outputs": [
    {
     "name": "stdout",
     "output_type": "stream",
     "text": [
      "The autoreload extension is already loaded. To reload it, use:\n",
      "  %reload_ext autoreload\n"
     ]
    }
   ],
   "source": [
    "%load_ext autoreload\n",
    "%autoreload 2\n",
    "\n",
    "import pandas as pd\n",
    "from nltk.tokenize import word_tokenize\n",
    "from toolbox.data_prep_helpers import *\n",
    "\n",
    "from models.lstm_classifier import create_model\n",
    "\n",
    "from tensorflow.keras.preprocessing import sequence\n",
    "from tensorflow.keras.preprocessing.sequence import pad_sequences\n",
    "from sklearn.model_selection import train_test_split\n",
    "from sklearn.preprocessing import OneHotEncoder, MultiLabelBinarizer\n",
    "import numpy as np"
   ]
  },
  {
   "cell_type": "code",
   "execution_count": 45,
   "metadata": {},
   "outputs": [],
   "source": [
    "data_path = \"../data/pythonquestions/\""
   ]
  },
  {
   "cell_type": "code",
   "execution_count": 46,
   "metadata": {},
   "outputs": [
    {
     "name": "stderr",
     "output_type": "stream",
     "text": [
      "[nltk_data] Downloading package punkt to\n",
      "[nltk_data]     C:\\Users\\dschr\\AppData\\Roaming\\nltk_data...\n",
      "[nltk_data]   Package punkt is already up-to-date!\n"
     ]
    },
    {
     "data": {
      "text/plain": [
       "True"
      ]
     },
     "execution_count": 46,
     "metadata": {},
     "output_type": "execute_result"
    }
   ],
   "source": [
    "import nltk\n",
    "nltk.download('punkt')"
   ]
  },
  {
   "cell_type": "markdown",
   "metadata": {},
   "source": [
    "### Load Data"
   ]
  },
  {
   "cell_type": "code",
   "execution_count": 47,
   "metadata": {},
   "outputs": [
    {
     "data": {
      "text/plain": [
       "(539238, 5)"
      ]
     },
     "execution_count": 47,
     "metadata": {},
     "output_type": "execute_result"
    }
   ],
   "source": [
    "df = load_data(data_path)\n",
    "df.shape"
   ]
  },
  {
   "cell_type": "code",
   "execution_count": 55,
   "metadata": {},
   "outputs": [
    {
     "data": {
      "text/html": [
       "<div>\n",
       "<style scoped>\n",
       "    .dataframe tbody tr th:only-of-type {\n",
       "        vertical-align: middle;\n",
       "    }\n",
       "\n",
       "    .dataframe tbody tr th {\n",
       "        vertical-align: top;\n",
       "    }\n",
       "\n",
       "    .dataframe thead th {\n",
       "        text-align: right;\n",
       "    }\n",
       "</style>\n",
       "<table border=\"1\" class=\"dataframe\">\n",
       "  <thead>\n",
       "    <tr style=\"text-align: right;\">\n",
       "      <th></th>\n",
       "      <th>Id</th>\n",
       "      <th>Title</th>\n",
       "      <th>Body_q</th>\n",
       "      <th>Body_a</th>\n",
       "      <th>tags</th>\n",
       "    </tr>\n",
       "  </thead>\n",
       "  <tbody>\n",
       "    <tr>\n",
       "      <td>61123</td>\n",
       "      <td>6689502</td>\n",
       "      <td>Python: would this leave me with a clean envir...</td>\n",
       "      <td>I want to change directories in the python (no...</td>\n",
       "      <td>&lt;p&gt;Just use this&lt;/p&gt;\\n\\n&lt;pre&gt;&lt;code&gt;__import__(...</td>\n",
       "      <td>[python, namespaces, read-eval-print-loop]</td>\n",
       "    </tr>\n",
       "    <tr>\n",
       "      <td>439406</td>\n",
       "      <td>34601268</td>\n",
       "      <td>NameError: name 'result' is not defined. Can't...</td>\n",
       "      <td>I'm a complete beginner in Python, trying to g...</td>\n",
       "      <td>&lt;p&gt;The error is clear, &lt;code&gt;result&lt;/code&gt; var...</td>\n",
       "      <td>[python]</td>\n",
       "    </tr>\n",
       "    <tr>\n",
       "      <td>95689</td>\n",
       "      <td>10159430</td>\n",
       "      <td>Python thread waiting for copying the file</td>\n",
       "      <td>I have a c program which is running in thread ...</td>\n",
       "      <td>&lt;p&gt;There are a lot of important details to you...</td>\n",
       "      <td>[python, c]</td>\n",
       "    </tr>\n",
       "    <tr>\n",
       "      <td>296320</td>\n",
       "      <td>25938674</td>\n",
       "      <td>Count # of unique values for dictionary key in...</td>\n",
       "      <td>I have created nested dictionary with values e...</td>\n",
       "      <td>&lt;p&gt;You could walk through the list of lists an...</td>\n",
       "      <td>[python, dictionary, nested]</td>\n",
       "    </tr>\n",
       "    <tr>\n",
       "      <td>107995</td>\n",
       "      <td>11295325</td>\n",
       "      <td>Receive a string, convert to calculate and dis...</td>\n",
       "      <td>My homework question:\\n\\nCreate a script to re...</td>\n",
       "      <td>&lt;p&gt;You probably want &lt;a href=\"http://docs.pyth...</td>\n",
       "      <td>[python]</td>\n",
       "    </tr>\n",
       "  </tbody>\n",
       "</table>\n",
       "</div>"
      ],
      "text/plain": [
       "              Id                                              Title  \\\n",
       "61123    6689502  Python: would this leave me with a clean envir...   \n",
       "439406  34601268  NameError: name 'result' is not defined. Can't...   \n",
       "95689   10159430         Python thread waiting for copying the file   \n",
       "296320  25938674  Count # of unique values for dictionary key in...   \n",
       "107995  11295325  Receive a string, convert to calculate and dis...   \n",
       "\n",
       "                                                   Body_q  \\\n",
       "61123   I want to change directories in the python (no...   \n",
       "439406  I'm a complete beginner in Python, trying to g...   \n",
       "95689   I have a c program which is running in thread ...   \n",
       "296320  I have created nested dictionary with values e...   \n",
       "107995  My homework question:\\n\\nCreate a script to re...   \n",
       "\n",
       "                                                   Body_a  \\\n",
       "61123   <p>Just use this</p>\\n\\n<pre><code>__import__(...   \n",
       "439406  <p>The error is clear, <code>result</code> var...   \n",
       "95689   <p>There are a lot of important details to you...   \n",
       "296320  <p>You could walk through the list of lists an...   \n",
       "107995  <p>You probably want <a href=\"http://docs.pyth...   \n",
       "\n",
       "                                              tags  \n",
       "61123   [python, namespaces, read-eval-print-loop]  \n",
       "439406                                    [python]  \n",
       "95689                                  [python, c]  \n",
       "296320                [python, dictionary, nested]  \n",
       "107995                                    [python]  "
      ]
     },
     "execution_count": 55,
     "metadata": {},
     "output_type": "execute_result"
    }
   ],
   "source": [
    "sample = df.sample(10000)\n",
    "remove_html_tags(sample, [\"Body_q\"])\n",
    "sample.head()"
   ]
  },
  {
   "cell_type": "code",
   "execution_count": 50,
   "metadata": {},
   "outputs": [
    {
     "data": {
      "text/plain": [
       "'using python 3.3 , I am supposed to answer the following questions:\\nFrom a box full of discs, we would like to know the probability of pulling two blue discs\\nin a row when all the discs in the box are either red or blue. Write a function which can\\ncalculate this probability for a box ï¬\\x81lled with any number of red discs and any number of\\nblue discs. A test case you may want to use: if the box contains 15 blue discs and 6 red\\ndiscs, you have a 50% chance of drawing two blue discs in a row.\\nNow write a function that calculates the probability of drawing n blue discs in a row for\\nsome n between 0 and the number of discs in the box.\\ni have tried using this model\\nimport random\\ndef random_pick(some_list, probabilities):\\n    x = random.uniform(0, 1)\\n    cumulative_probability = 50.0\\n    for item, item_probability in zip(some_list, probabilities):\\n        cumulative_probability += item_probability\\n        if x < cumulative_probability: break\\n    return item\\n\\ni am almost completely lost. Please help.\\n'"
      ]
     },
     "execution_count": 50,
     "metadata": {},
     "output_type": "execute_result"
    }
   ],
   "source": [
    "sample[\"Body_q\"].iloc[100]"
   ]
  },
  {
   "cell_type": "markdown",
   "metadata": {},
   "source": [
    "### Clean Data"
   ]
  },
  {
   "cell_type": "code",
   "execution_count": 56,
   "metadata": {},
   "outputs": [
    {
     "name": "stdout",
     "output_type": "stream",
     "text": [
      "(10000, 5)\n",
      "(9991, 5)\n",
      "deleting element python from top_tags\n"
     ]
    },
    {
     "data": {
      "text/plain": [
       "(6996, 5)"
      ]
     },
     "execution_count": 56,
     "metadata": {},
     "output_type": "execute_result"
    }
   ],
   "source": [
    "# we have some nans in our tags which break target encoding\n",
    "print(sample.shape)\n",
    "sample = sample[sample[\"tags\"].apply(lambda tags: all([isinstance(t, str) for t in tags]))]\n",
    "print(sample.shape)\n",
    "\n",
    "# reduce number of possible tags\n",
    "all_tags = np.array([tag for tags in sample[\"tags\"] for tag in tags])\n",
    "unique_tags = np.unique(all_tags, return_counts=True)\n",
    "top_tags = unique_tags[0][np.argsort(unique_tags[1])[-101:]]  # keep 101, we will remove \"python\"\n",
    "print(f\"deleting element {top_tags[-1]} from top_tags\")\n",
    "top_tags = np.delete(top_tags, -1)\n",
    "\n",
    "# remove tags that are not within top_101 and remove \"python\" tag\n",
    "sample[\"tags\"] = sample[\"tags\"].apply(lambda x: [tag for tag in x if tag in top_tags])\n",
    "\n",
    "# remove any tag lists that we potentially made empty by doing this\n",
    "sample = sample[sample[\"tags\"].apply(len) > 0]\n",
    "sample.shape"
   ]
  },
  {
   "cell_type": "code",
   "execution_count": 57,
   "metadata": {},
   "outputs": [
    {
     "data": {
      "text/plain": [
       "95689                          [c]\n",
       "296320                [dictionary]\n",
       "502535                   [mongodb]\n",
       "209085          [matplotlib, plot]\n",
       "99761              [mysql, django]\n",
       "45201     [for-loop, if-statement]\n",
       "533569                     [numpy]\n",
       "195001                       [csv]\n",
       "224582                     [numpy]\n",
       "431849                [sqlalchemy]\n",
       "Name: tags, dtype: object"
      ]
     },
     "execution_count": 57,
     "metadata": {},
     "output_type": "execute_result"
    }
   ],
   "source": [
    "sample[\"tags\"].head(10)"
   ]
  },
  {
   "cell_type": "markdown",
   "metadata": {},
   "source": [
    "### Prepare Training and Test data"
   ]
  },
  {
   "cell_type": "code",
   "execution_count": 53,
   "metadata": {},
   "outputs": [],
   "source": [
    "def generate_question_level_tokens(txt):\n",
    "    sents = sent_tokenize_text(txt)\n",
    "    words = [word_tokenize_sent(s) for s in sents]\n",
    "    return [item for sublist in words for item in sublist]  # flatten nested list"
   ]
  },
  {
   "cell_type": "code",
   "execution_count": 58,
   "metadata": {},
   "outputs": [
    {
     "name": "stdout",
     "output_type": "stream",
     "text": [
      "(2815, 6)\n",
      "(704, 6)\n"
     ]
    }
   ],
   "source": [
    "sample[\"q_all_body_tokenized\"] = sample[\"Body_q\"].apply(generate_question_level_tokens)\n",
    "data = sample[sample[\"q_all_body_tokenized\"].apply(len) <= 100]\n",
    "train_data, test_data = train_test_split(data, test_size = 0.2)\n",
    "print(train_data.shape)\n",
    "print(test_data.shape)"
   ]
  },
  {
   "cell_type": "code",
   "execution_count": 59,
   "metadata": {},
   "outputs": [
    {
     "name": "stdout",
     "output_type": "stream",
     "text": [
      "[\"I know you can disable resizing; however I'd like it so when the window was resized it stuck to a certain width to height ratio\", 'Say a way to take a Python Unicode string and pass it to a C function which catenates it with itself and returns that to Python which prints it']\n",
      "['i', 'know', 'you', 'can', 'disable', 'resizing', ';', 'however', 'i', \"'d\", 'like', 'it', 'so', 'when', 'the', 'window', 'was', 'resized', 'it', 'stuck', 'to', 'a', 'certain', 'width', 'to', 'height', 'ratio']\n"
     ]
    }
   ],
   "source": [
    "# train word embeddings ONLY with training data\n",
    "# wv = create_Word2Vec_embeddings(train_data, \"Body_q\")\n",
    "# Use FastText to include solution for out-of-vocab words\n",
    "wv = create_FastText_embedding(train_data, \"Body_q\")"
   ]
  },
  {
   "cell_type": "code",
   "execution_count": 72,
   "metadata": {},
   "outputs": [],
   "source": [
    "X_train = train_data[\"q_all_body_tokenized\"].apply(lambda x: np.array([wv[w] for w in x]))"
   ]
  },
  {
   "cell_type": "code",
   "execution_count": 73,
   "metadata": {},
   "outputs": [
    {
     "data": {
      "text/plain": [
       "(2815, 100, 100)"
      ]
     },
     "execution_count": 73,
     "metadata": {},
     "output_type": "execute_result"
    }
   ],
   "source": [
    "X_train_padded = pad_sequences(X_train, padding=\"post\")\n",
    "X_train_padded.shape"
   ]
  },
  {
   "cell_type": "code",
   "execution_count": 74,
   "metadata": {},
   "outputs": [],
   "source": [
    "label_encoder = MultiLabelBinarizer()\n",
    "label_encoder.fit(train_data[\"tags\"])\n",
    "y_train = label_encoder.transform(train_data[\"tags\"])"
   ]
  },
  {
   "cell_type": "code",
   "execution_count": 77,
   "metadata": {},
   "outputs": [],
   "source": [
    "X_test = test_data[\"q_all_body_tokenized\"].apply(lambda x: np.array([wv[w] for w in x]))\n",
    "y_test = label_encoder.transform(test_data[\"tags\"])"
   ]
  },
  {
   "cell_type": "markdown",
   "metadata": {},
   "source": [
    "### Train Model"
   ]
  },
  {
   "cell_type": "code",
   "execution_count": 78,
   "metadata": {},
   "outputs": [
    {
     "name": "stdout",
     "output_type": "stream",
     "text": [
      "Model: \"sequential_1\"\n",
      "_________________________________________________________________\n",
      "Layer (type)                 Output Shape              Param #   \n",
      "=================================================================\n",
      "lstm_1 (LSTM)                (None, 32)                17024     \n",
      "_________________________________________________________________\n",
      "dense_1 (Dense)              (None, 100)               3300      \n",
      "=================================================================\n",
      "Total params: 20,324\n",
      "Trainable params: 20,324\n",
      "Non-trainable params: 0\n",
      "_________________________________________________________________\n"
     ]
    }
   ],
   "source": [
    "model = create_model(embedding_dim=100, output_dim=100)\n",
    "model.summary()"
   ]
  },
  {
   "cell_type": "code",
   "execution_count": 79,
   "metadata": {},
   "outputs": [
    {
     "name": "stdout",
     "output_type": "stream",
     "text": [
      "Train on 2815 samples\n",
      "Epoch 1/10\n",
      "2815/2815 [==============================] - 3s 947us/sample - loss: 0.2322\n",
      "Epoch 2/10\n",
      "2815/2815 [==============================] - 0s 86us/sample - loss: 0.1177\n",
      "Epoch 3/10\n",
      "2815/2815 [==============================] - 0s 94us/sample - loss: 0.0448\n",
      "Epoch 4/10\n",
      "2815/2815 [==============================] - 0s 105us/sample - loss: 0.0239\n",
      "Epoch 5/10\n",
      "2815/2815 [==============================] - 0s 151us/sample - loss: 0.0188\n",
      "Epoch 6/10\n",
      "2815/2815 [==============================] - 0s 128us/sample - loss: 0.0170\n",
      "Epoch 7/10\n",
      "2815/2815 [==============================] - 0s 98us/sample - loss: 0.0161\n",
      "Epoch 8/10\n",
      "2815/2815 [==============================] - 0s 120us/sample - loss: 0.0155\n",
      "Epoch 9/10\n",
      "2815/2815 [==============================] - 0s 148us/sample - loss: 0.0151\n",
      "Epoch 10/10\n",
      "2815/2815 [==============================] - 0s 166us/sample - loss: 0.0149\n"
     ]
    },
    {
     "data": {
      "text/plain": [
       "<tensorflow.python.keras.callbacks.History at 0x174a0116448>"
      ]
     },
     "execution_count": 79,
     "metadata": {},
     "output_type": "execute_result"
    }
   ],
   "source": [
    "model.fit(x=X_train_padded, y=y_train, batch_size=128, epochs=10)"
   ]
  },
  {
   "cell_type": "code",
   "execution_count": 29,
   "metadata": {},
   "outputs": [
    {
     "data": {
      "text/html": [
       "<div>\n",
       "<style scoped>\n",
       "    .dataframe tbody tr th:only-of-type {\n",
       "        vertical-align: middle;\n",
       "    }\n",
       "\n",
       "    .dataframe tbody tr th {\n",
       "        vertical-align: top;\n",
       "    }\n",
       "\n",
       "    .dataframe thead th {\n",
       "        text-align: right;\n",
       "    }\n",
       "</style>\n",
       "<table border=\"1\" class=\"dataframe\">\n",
       "  <thead>\n",
       "    <tr style=\"text-align: right;\">\n",
       "      <th></th>\n",
       "      <th>Id</th>\n",
       "      <th>Title</th>\n",
       "      <th>Body_q</th>\n",
       "      <th>Body_a</th>\n",
       "      <th>tags</th>\n",
       "      <th>q_all_body_tokenized</th>\n",
       "    </tr>\n",
       "  </thead>\n",
       "  <tbody>\n",
       "    <tr>\n",
       "      <td>518827</td>\n",
       "      <td>39014670</td>\n",
       "      <td>(centos6.6) before updating python2.7.3 ,it is...</td>\n",
       "      <td>(centos6.6) before updating python2.7.3 ,it is...</td>\n",
       "      <td>&lt;p&gt;Reasons could be any of the following:&lt;/p&gt;\\...</td>\n",
       "      <td>[linux]</td>\n",
       "      <td>[(, centos6.6, ), before, updating, python2.7....</td>\n",
       "    </tr>\n",
       "    <tr>\n",
       "      <td>180026</td>\n",
       "      <td>17518304</td>\n",
       "      <td>run python file in python shell</td>\n",
       "      <td>I have a python file (my_code.py) in Home/Pyth...</td>\n",
       "      <td>&lt;p&gt;You should expand tilde(~) to actual path. ...</td>\n",
       "      <td>[ubuntu]</td>\n",
       "      <td>[i, have, a, python, file, (, my_code.py, ), i...</td>\n",
       "    </tr>\n",
       "    <tr>\n",
       "      <td>268332</td>\n",
       "      <td>24024736</td>\n",
       "      <td>How to generate random int around specific mean?</td>\n",
       "      <td>I need to generate 100 age values between 23 a...</td>\n",
       "      <td>&lt;p&gt;I think you could populate an array of size...</td>\n",
       "      <td>[random]</td>\n",
       "      <td>[i, need, to, generate, 100, age, values, betw...</td>\n",
       "    </tr>\n",
       "    <tr>\n",
       "      <td>480028</td>\n",
       "      <td>36843984</td>\n",
       "      <td>Django REST Framework - NoReverseMatch when us...</td>\n",
       "      <td>I've been trying to return some URLs using the...</td>\n",
       "      <td>&lt;p&gt;You shouldn't pass the request:&lt;/p&gt;\\n\\n&lt;pre...</td>\n",
       "      <td>[django, django-rest-framework]</td>\n",
       "      <td>[i, 've, been, trying, to, return, some, urls,...</td>\n",
       "    </tr>\n",
       "    <tr>\n",
       "      <td>24471</td>\n",
       "      <td>3016497</td>\n",
       "      <td>How to create a translucid/alpha-transparent r...</td>\n",
       "      <td>I have a wx.panel and I want to put a transluc...</td>\n",
       "      <td>&lt;p&gt;You can do this using a &lt;a href=\"http://www...</td>\n",
       "      <td>[wxpython]</td>\n",
       "      <td>[i, have, a, wx.panel, and, i, want, to, put, ...</td>\n",
       "    </tr>\n",
       "  </tbody>\n",
       "</table>\n",
       "</div>"
      ],
      "text/plain": [
       "              Id                                              Title  \\\n",
       "518827  39014670  (centos6.6) before updating python2.7.3 ,it is...   \n",
       "180026  17518304                    run python file in python shell   \n",
       "268332  24024736   How to generate random int around specific mean?   \n",
       "480028  36843984  Django REST Framework - NoReverseMatch when us...   \n",
       "24471    3016497  How to create a translucid/alpha-transparent r...   \n",
       "\n",
       "                                                   Body_q  \\\n",
       "518827  (centos6.6) before updating python2.7.3 ,it is...   \n",
       "180026  I have a python file (my_code.py) in Home/Pyth...   \n",
       "268332  I need to generate 100 age values between 23 a...   \n",
       "480028  I've been trying to return some URLs using the...   \n",
       "24471   I have a wx.panel and I want to put a transluc...   \n",
       "\n",
       "                                                   Body_a  \\\n",
       "518827  <p>Reasons could be any of the following:</p>\\...   \n",
       "180026  <p>You should expand tilde(~) to actual path. ...   \n",
       "268332  <p>I think you could populate an array of size...   \n",
       "480028  <p>You shouldn't pass the request:</p>\\n\\n<pre...   \n",
       "24471   <p>You can do this using a <a href=\"http://www...   \n",
       "\n",
       "                                   tags  \\\n",
       "518827                          [linux]   \n",
       "180026                         [ubuntu]   \n",
       "268332                         [random]   \n",
       "480028  [django, django-rest-framework]   \n",
       "24471                        [wxpython]   \n",
       "\n",
       "                                     q_all_body_tokenized  \n",
       "518827  [(, centos6.6, ), before, updating, python2.7....  \n",
       "180026  [i, have, a, python, file, (, my_code.py, ), i...  \n",
       "268332  [i, need, to, generate, 100, age, values, betw...  \n",
       "480028  [i, 've, been, trying, to, return, some, urls,...  \n",
       "24471   [i, have, a, wx.panel, and, i, want, to, put, ...  "
      ]
     },
     "execution_count": 29,
     "metadata": {},
     "output_type": "execute_result"
    }
   ],
   "source": [
    "train_data.head()"
   ]
  }
 ],
 "metadata": {
  "kernelspec": {
   "display_name": "Python 3",
   "language": "python",
   "name": "python3"
  },
  "language_info": {
   "codemirror_mode": {
    "name": "ipython",
    "version": 3
   },
   "file_extension": ".py",
   "mimetype": "text/x-python",
   "name": "python",
   "nbconvert_exporter": "python",
   "pygments_lexer": "ipython3",
   "version": "3.7.4"
  },
  "varInspector": {
   "cols": {
    "lenName": 16,
    "lenType": 16,
    "lenVar": 40
   },
   "kernels_config": {
    "python": {
     "delete_cmd_postfix": "",
     "delete_cmd_prefix": "del ",
     "library": "var_list.py",
     "varRefreshCmd": "print(var_dic_list())"
    },
    "r": {
     "delete_cmd_postfix": ") ",
     "delete_cmd_prefix": "rm(",
     "library": "var_list.r",
     "varRefreshCmd": "cat(var_dic_list()) "
    }
   },
   "types_to_exclude": [
    "module",
    "function",
    "builtin_function_or_method",
    "instance",
    "_Feature"
   ],
   "window_display": false
  }
 },
 "nbformat": 4,
 "nbformat_minor": 4
}
