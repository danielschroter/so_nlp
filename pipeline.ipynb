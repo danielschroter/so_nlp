{
 "cells": [
  {
   "cell_type": "markdown",
   "metadata": {},
   "source": [
    "# Training Pipeline"
   ]
  },
  {
   "cell_type": "code",
   "execution_count": 28,
   "metadata": {},
   "outputs": [
    {
     "name": "stdout",
     "output_type": "stream",
     "text": [
      "The autoreload extension is already loaded. To reload it, use:\n",
      "  %reload_ext autoreload\n"
     ]
    }
   ],
   "source": [
    "%load_ext autoreload\n",
    "%autoreload 2\n",
    "\n",
    "import pandas as pd\n",
    "from nltk.tokenize import word_tokenize\n",
    "from toolbox.data_prep_helpers import *\n",
    "from toolbox.evaluation import *\n",
    "\n",
    "from models.lstm_classifier import create_model\n",
    "\n",
    "from tensorflow.keras.preprocessing import sequence\n",
    "from tensorflow.keras.preprocessing.sequence import pad_sequences\n",
    "from sklearn.model_selection import train_test_split\n",
    "from sklearn.preprocessing import OneHotEncoder, MultiLabelBinarizer\n",
    "import numpy as np"
   ]
  },
  {
   "cell_type": "code",
   "execution_count": 32,
   "metadata": {},
   "outputs": [],
   "source": [
    "data_path = \"../data/pythonquestions/\"\n",
    "ft_path = \"alldata.ft\"  # set this to None if you want to train your own fasttext embeddings\n",
    "n_top_labels = 100\n",
    "max_question_words = 100\n",
    "sample_size = 100000  # set to -1 to use entire data"
   ]
  },
  {
   "cell_type": "code",
   "execution_count": 5,
   "metadata": {},
   "outputs": [
    {
     "name": "stderr",
     "output_type": "stream",
     "text": [
      "[nltk_data] Downloading package punkt to /home/lukas/nltk_data...\n",
      "[nltk_data]   Package punkt is already up-to-date!\n"
     ]
    },
    {
     "data": {
      "text/plain": [
       "True"
      ]
     },
     "execution_count": 5,
     "metadata": {},
     "output_type": "execute_result"
    }
   ],
   "source": [
    "import nltk\n",
    "nltk.download('punkt')"
   ]
  },
  {
   "cell_type": "markdown",
   "metadata": {},
   "source": [
    "### Load Data"
   ]
  },
  {
   "cell_type": "code",
   "execution_count": 6,
   "metadata": {},
   "outputs": [
    {
     "data": {
      "text/plain": [
       "(539238, 5)"
      ]
     },
     "execution_count": 6,
     "metadata": {},
     "output_type": "execute_result"
    }
   ],
   "source": [
    "df = load_data(data_path)\n",
    "df.shape"
   ]
  },
  {
   "cell_type": "code",
   "execution_count": 33,
   "metadata": {},
   "outputs": [
    {
     "data": {
      "text/html": [
       "<div>\n",
       "<style scoped>\n",
       "    .dataframe tbody tr th:only-of-type {\n",
       "        vertical-align: middle;\n",
       "    }\n",
       "\n",
       "    .dataframe tbody tr th {\n",
       "        vertical-align: top;\n",
       "    }\n",
       "\n",
       "    .dataframe thead th {\n",
       "        text-align: right;\n",
       "    }\n",
       "</style>\n",
       "<table border=\"1\" class=\"dataframe\">\n",
       "  <thead>\n",
       "    <tr style=\"text-align: right;\">\n",
       "      <th></th>\n",
       "      <th>Id</th>\n",
       "      <th>Title</th>\n",
       "      <th>Body_q</th>\n",
       "      <th>Body_a</th>\n",
       "      <th>tags</th>\n",
       "    </tr>\n",
       "  </thead>\n",
       "  <tbody>\n",
       "    <tr>\n",
       "      <th>207123</th>\n",
       "      <td>19638887</td>\n",
       "      <td>Python \"with\" statement syntax</td>\n",
       "      <td>I have some python code that parse the csv fil...</td>\n",
       "      <td>&lt;p&gt;You can do this by assigning the function y...</td>\n",
       "      <td>[python, with-statement]</td>\n",
       "    </tr>\n",
       "    <tr>\n",
       "      <th>272569</th>\n",
       "      <td>24326308</td>\n",
       "      <td>Get running python server IP address in Javasc...</td>\n",
       "      <td>I have a python flask app running on my server...</td>\n",
       "      <td>&lt;p&gt;Register a domain name and stick with it. U...</td>\n",
       "      <td>[javascript, python, flask]</td>\n",
       "    </tr>\n",
       "    <tr>\n",
       "      <th>22686</th>\n",
       "      <td>2842748</td>\n",
       "      <td>What will be the setup process for website dev...</td>\n",
       "      <td>I want to create a simple site for my personal...</td>\n",
       "      <td>&lt;p&gt;If the size of the community matters to you...</td>\n",
       "      <td>[python]</td>\n",
       "    </tr>\n",
       "    <tr>\n",
       "      <th>351265</th>\n",
       "      <td>29447626</td>\n",
       "      <td>Invalid syntax when using \"%\" sign on print fu...</td>\n",
       "      <td>I'm trying to print stuff on python 3.4.3 on t...</td>\n",
       "      <td>&lt;p&gt;You dont need comma after Your string :&lt;/p&gt;...</td>\n",
       "      <td>[python, python-3.x, invalidate]</td>\n",
       "    </tr>\n",
       "    <tr>\n",
       "      <th>287783</th>\n",
       "      <td>25334157</td>\n",
       "      <td>Insert selected text from one file into multip...</td>\n",
       "      <td>I have file(lets call it file_A) from which I ...</td>\n",
       "      <td>&lt;p&gt;Put files in a list, and iterate over the l...</td>\n",
       "      <td>[python, file]</td>\n",
       "    </tr>\n",
       "  </tbody>\n",
       "</table>\n",
       "</div>"
      ],
      "text/plain": [
       "              Id                                              Title  \\\n",
       "207123  19638887                     Python \"with\" statement syntax   \n",
       "272569  24326308  Get running python server IP address in Javasc...   \n",
       "22686    2842748  What will be the setup process for website dev...   \n",
       "351265  29447626  Invalid syntax when using \"%\" sign on print fu...   \n",
       "287783  25334157  Insert selected text from one file into multip...   \n",
       "\n",
       "                                                   Body_q  \\\n",
       "207123  I have some python code that parse the csv fil...   \n",
       "272569  I have a python flask app running on my server...   \n",
       "22686   I want to create a simple site for my personal...   \n",
       "351265  I'm trying to print stuff on python 3.4.3 on t...   \n",
       "287783  I have file(lets call it file_A) from which I ...   \n",
       "\n",
       "                                                   Body_a  \\\n",
       "207123  <p>You can do this by assigning the function y...   \n",
       "272569  <p>Register a domain name and stick with it. U...   \n",
       "22686   <p>If the size of the community matters to you...   \n",
       "351265  <p>You dont need comma after Your string :</p>...   \n",
       "287783  <p>Put files in a list, and iterate over the l...   \n",
       "\n",
       "                                    tags  \n",
       "207123          [python, with-statement]  \n",
       "272569       [javascript, python, flask]  \n",
       "22686                           [python]  \n",
       "351265  [python, python-3.x, invalidate]  \n",
       "287783                    [python, file]  "
      ]
     },
     "execution_count": 33,
     "metadata": {},
     "output_type": "execute_result"
    }
   ],
   "source": [
    "sample = df.sample(sample_size) if sample_size > 0 else df\n",
    "remove_html_tags(sample, [\"Body_q\"])\n",
    "sample.head()"
   ]
  },
  {
   "cell_type": "code",
   "execution_count": 34,
   "metadata": {},
   "outputs": [
    {
     "data": {
      "text/plain": [
       "\"I hope this message finds you in good spirits. I am trying to find a quick tutorial on the \\\\b expression (apologies if there is a better term). I am writing a script at the moment to parse some xml files, but have ran into a bit of a speed bump. I will show an example of my xml:\\n<....></...><...></...><OrderId>123456</OrderId><...></...>\\n<CustomerId>44444444</CustomerId><...></...><...></...>\\n\\n<...> is unimportant and non relevant xml code. Focus primarily on the CustomerID and OrderId.\\nMy issue lies in parsing a string, similar to the above statement. I have a regexParse definition that works perfectly. However it is not intuitive. I need to match only the part of the string that contains 44444444.\\nMy Current setup is:\\nsearchPattern = '>\\\\d{8}</CustomerId'\\n\\nGreat! It works, but I want to do it the right way. My thinking is 1) find 8 digits 2) if the some word boundary is non numeric after that matches CustomerId return it.\\nIdea:\\nsearchPattern = '\\\\bd{16}\\\\b'\\n\\nMy issue in my tests is incorporating the search for CustomerId somewhere before and after the digits. I was wondering if any of you can either help me out with my issue, or point me in the right path (in words of a guide or something along the lines). Any help is appreciated.\\nMods if this is in the wrong area apologies, I wanted to post this in the Python discussion because I am not sure if Python regex supports this functionality.\\nThanks again all,\\ndarcmasta \\n\""
      ]
     },
     "execution_count": 34,
     "metadata": {},
     "output_type": "execute_result"
    }
   ],
   "source": [
    "sample[\"Body_q\"].iloc[102]"
   ]
  },
  {
   "cell_type": "markdown",
   "metadata": {},
   "source": [
    "### Clean Data"
   ]
  },
  {
   "cell_type": "code",
   "execution_count": 35,
   "metadata": {},
   "outputs": [
    {
     "name": "stdout",
     "output_type": "stream",
     "text": [
      "(100000, 5)\n",
      "(99928, 5)\n",
      "deleting element python from top_tags\n"
     ]
    },
    {
     "data": {
      "text/plain": [
       "(70181, 5)"
      ]
     },
     "execution_count": 35,
     "metadata": {},
     "output_type": "execute_result"
    }
   ],
   "source": [
    "# we have some nans in our tags which break target encoding\n",
    "print(sample.shape)\n",
    "sample = sample[sample[\"tags\"].apply(lambda tags: all([isinstance(t, str) for t in tags]))]\n",
    "print(sample.shape)\n",
    "\n",
    "\n",
    "# Reduce the number of tags and adjust dataframe accordingly\n",
    "sample = reduce_number_of_tags(sample, n_top_labels)\n",
    "sample.shape"
   ]
  },
  {
   "cell_type": "code",
   "execution_count": 36,
   "metadata": {},
   "outputs": [
    {
     "data": {
      "text/plain": [
       "272569    [javascript, flask]\n",
       "351265           [python-3.x]\n",
       "287783                 [file]\n",
       "312479           [matplotlib]\n",
       "41734             [algorithm]\n",
       "Name: tags, dtype: object"
      ]
     },
     "execution_count": 36,
     "metadata": {},
     "output_type": "execute_result"
    }
   ],
   "source": [
    "sample[\"tags\"].head(5)"
   ]
  },
  {
   "cell_type": "markdown",
   "metadata": {},
   "source": [
    "### Prepare Training and Test data"
   ]
  },
  {
   "cell_type": "code",
   "execution_count": 37,
   "metadata": {},
   "outputs": [
    {
     "name": "stdout",
     "output_type": "stream",
     "text": [
      "(28531, 6)\n",
      "(7133, 6)\n"
     ]
    }
   ],
   "source": [
    "# Tokenize text into words on question level\n",
    "sample[\"q_all_body_tokenized\"] = sample[\"Body_q\"].apply(generate_question_level_tokens)\n",
    "data = sample[sample[\"q_all_body_tokenized\"].apply(len) <= 100]\n",
    "train_data, test_data = train_test_split(data, test_size = 0.2)\n",
    "print(train_data.shape)\n",
    "print(test_data.shape)"
   ]
  },
  {
   "cell_type": "code",
   "execution_count": 38,
   "metadata": {},
   "outputs": [],
   "source": [
    "# train word embeddings ONLY with training data\n",
    "# wv = create_Word2Vec_embeddings(train_data, \"Body_q\")\n",
    "# Use FastText to include solution for out-of-vocab words\n",
    "if ft_path is not None:\n",
    "    wv = load_fasttext_embeddings(ft_path)\n",
    "else:\n",
    "    wv = create_FastText_embedding(train_data, \"Body_q\")"
   ]
  },
  {
   "cell_type": "code",
   "execution_count": 39,
   "metadata": {},
   "outputs": [],
   "source": [
    "X_train = train_data[\"q_all_body_tokenized\"].apply(lambda x: np.array([wv[w] for w in x]))"
   ]
  },
  {
   "cell_type": "code",
   "execution_count": 40,
   "metadata": {},
   "outputs": [
    {
     "data": {
      "text/plain": [
       "(28531, 100, 100)"
      ]
     },
     "execution_count": 40,
     "metadata": {},
     "output_type": "execute_result"
    }
   ],
   "source": [
    "X_train_padded = pad_sequences(X_train, padding=\"post\")\n",
    "X_train_padded.shape"
   ]
  },
  {
   "cell_type": "code",
   "execution_count": 41,
   "metadata": {},
   "outputs": [],
   "source": [
    "label_encoder = MultiLabelBinarizer()\n",
    "label_encoder.fit(train_data[\"tags\"])\n",
    "y_train = label_encoder.transform(train_data[\"tags\"])"
   ]
  },
  {
   "cell_type": "code",
   "execution_count": 42,
   "metadata": {},
   "outputs": [],
   "source": [
    "X_test = test_data[\"q_all_body_tokenized\"].apply(lambda x: np.array([wv[w] for w in x]))\n",
    "X_test_padded = pad_sequences(X_test, padding=\"post\")\n",
    "y_test = label_encoder.transform(test_data[\"tags\"])"
   ]
  },
  {
   "cell_type": "markdown",
   "metadata": {},
   "source": [
    "### Train Model"
   ]
  },
  {
   "cell_type": "code",
   "execution_count": 43,
   "metadata": {},
   "outputs": [
    {
     "name": "stdout",
     "output_type": "stream",
     "text": [
      "Model: \"sequential_2\"\n",
      "_________________________________________________________________\n",
      "Layer (type)                 Output Shape              Param #   \n",
      "=================================================================\n",
      "lstm_2 (LSTM)                (None, 256)               365568    \n",
      "_________________________________________________________________\n",
      "dense_6 (Dense)              (None, 256)               65792     \n",
      "_________________________________________________________________\n",
      "dense_7 (Dense)              (None, 128)               32896     \n",
      "_________________________________________________________________\n",
      "dense_8 (Dense)              (None, 100)               12900     \n",
      "=================================================================\n",
      "Total params: 477,156\n",
      "Trainable params: 477,156\n",
      "Non-trainable params: 0\n",
      "_________________________________________________________________\n"
     ]
    }
   ],
   "source": [
    "model = create_model(embedding_dim=100, output_dim=100)\n",
    "model.summary()"
   ]
  },
  {
   "cell_type": "code",
   "execution_count": null,
   "metadata": {},
   "outputs": [
    {
     "name": "stdout",
     "output_type": "stream",
     "text": [
      "Train on 28531 samples, validate on 7133 samples\n",
      "Epoch 1/3\n",
      "28531/28531 [==============================] - 97s 3ms/sample - loss: 0.0963 - accuracy: 0.9764 - val_loss: 0.0681 - val_accuracy: 0.9859\n",
      "Epoch 2/3\n",
      "28531/28531 [==============================] - 93s 3ms/sample - loss: 0.0682 - accuracy: 0.9858 - val_loss: 0.0681 - val_accuracy: 0.9859\n",
      "Epoch 3/3\n",
      "24448/28531 [========================>.....] - ETA: 12s - loss: 0.0682 - accuracy: 0.9858"
     ]
    }
   ],
   "source": [
    "model.fit(x=X_train_padded, y=y_train, batch_size=128, epochs=3, validation_data=[X_test_padded, y_test])"
   ]
  },
  {
   "cell_type": "code",
   "execution_count": null,
   "metadata": {},
   "outputs": [],
   "source": [
    "n_predictions = 1000\n",
    "\n",
    "predictions = model.predict(X_train_padded[:n_predictions])\n",
    "\n",
    "l_pred = label_encoder.inverse_transform(binarize_model_output(predictions))\n",
    "l_true = label_encoder.inverse_transform(y_train[:n_predictions])\n",
    "texts = train_data[\"q_all_body_tokenized\"][:n_predictions]\n",
    "\n",
    "for pred, act, txt in zip(l_pred, l_true, texts):\n",
    "    print(f\"TRUE: {act}\\nPREDICTION: {pred}\\n\")\n",
    "    print(txt)"
   ]
  },
  {
   "cell_type": "code",
   "execution_count": null,
   "metadata": {},
   "outputs": [],
   "source": []
  }
 ],
 "metadata": {
  "kernelspec": {
   "display_name": "Python 3",
   "language": "python",
   "name": "python3"
  },
  "language_info": {
   "codemirror_mode": {
    "name": "ipython",
    "version": 3
   },
   "file_extension": ".py",
   "mimetype": "text/x-python",
   "name": "python",
   "nbconvert_exporter": "python",
   "pygments_lexer": "ipython3",
   "version": "3.7.3"
  },
  "varInspector": {
   "cols": {
    "lenName": 16,
    "lenType": 16,
    "lenVar": 40
   },
   "kernels_config": {
    "python": {
     "delete_cmd_postfix": "",
     "delete_cmd_prefix": "del ",
     "library": "var_list.py",
     "varRefreshCmd": "print(var_dic_list())"
    },
    "r": {
     "delete_cmd_postfix": ") ",
     "delete_cmd_prefix": "rm(",
     "library": "var_list.r",
     "varRefreshCmd": "cat(var_dic_list()) "
    }
   },
   "types_to_exclude": [
    "module",
    "function",
    "builtin_function_or_method",
    "instance",
    "_Feature"
   ],
   "window_display": false
  }
 },
 "nbformat": 4,
 "nbformat_minor": 4
}
