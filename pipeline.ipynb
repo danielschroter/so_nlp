{
 "cells": [
  {
   "cell_type": "markdown",
   "metadata": {},
   "source": [
    "# Training Pipeline"
   ]
  },
  {
   "cell_type": "code",
   "execution_count": 10,
   "metadata": {},
   "outputs": [
    {
     "name": "stdout",
     "output_type": "stream",
     "text": [
      "The autoreload extension is already loaded. To reload it, use:\n",
      "  %reload_ext autoreload\n"
     ]
    }
   ],
   "source": [
    "%load_ext autoreload\n",
    "%autoreload 2\n",
    "\n",
    "import pandas as pd\n",
    "from nltk.tokenize import word_tokenize\n",
    "from toolbox.data_prep_helpers import *\n",
    "\n",
    "from models.lstm_classifier import create_model\n",
    "\n",
    "from tensorflow.keras.preprocessing import sequence\n",
    "from tensorflow.keras.preprocessing.sequence import pad_sequences\n",
    "from sklearn.model_selection import train_test_split\n",
    "from sklearn.preprocessing import OneHotEncoder, MultiLabelBinarizer\n",
    "import numpy as np"
   ]
  },
  {
   "cell_type": "code",
   "execution_count": 3,
   "metadata": {},
   "outputs": [],
   "source": [
    "data_path = \"../data/pythonquestions/\""
   ]
  },
  {
   "cell_type": "code",
   "execution_count": 4,
   "metadata": {},
   "outputs": [
    {
     "name": "stderr",
     "output_type": "stream",
     "text": [
      "[nltk_data] Downloading package punkt to\n",
      "[nltk_data]     C:\\Users\\dschr\\AppData\\Roaming\\nltk_data...\n",
      "[nltk_data]   Package punkt is already up-to-date!\n"
     ]
    },
    {
     "data": {
      "text/plain": [
       "True"
      ]
     },
     "execution_count": 4,
     "metadata": {},
     "output_type": "execute_result"
    }
   ],
   "source": [
    "import nltk\n",
    "nltk.download('punkt')"
   ]
  },
  {
   "cell_type": "markdown",
   "metadata": {},
   "source": [
    "### Load Data"
   ]
  },
  {
   "cell_type": "code",
   "execution_count": 5,
   "metadata": {},
   "outputs": [
    {
     "data": {
      "text/plain": [
       "(539238, 5)"
      ]
     },
     "execution_count": 5,
     "metadata": {},
     "output_type": "execute_result"
    }
   ],
   "source": [
    "df = load_data(data_path)\n",
    "df.shape"
   ]
  },
  {
   "cell_type": "code",
   "execution_count": 7,
   "metadata": {},
   "outputs": [
    {
     "data": {
      "text/html": [
       "<div>\n",
       "<style scoped>\n",
       "    .dataframe tbody tr th:only-of-type {\n",
       "        vertical-align: middle;\n",
       "    }\n",
       "\n",
       "    .dataframe tbody tr th {\n",
       "        vertical-align: top;\n",
       "    }\n",
       "\n",
       "    .dataframe thead th {\n",
       "        text-align: right;\n",
       "    }\n",
       "</style>\n",
       "<table border=\"1\" class=\"dataframe\">\n",
       "  <thead>\n",
       "    <tr style=\"text-align: right;\">\n",
       "      <th></th>\n",
       "      <th>Id</th>\n",
       "      <th>Title</th>\n",
       "      <th>Body_q</th>\n",
       "      <th>Body_a</th>\n",
       "      <th>tags</th>\n",
       "    </tr>\n",
       "  </thead>\n",
       "  <tbody>\n",
       "    <tr>\n",
       "      <td>386445</td>\n",
       "      <td>31556460</td>\n",
       "      <td>How to find the median and standard deviation ...</td>\n",
       "      <td>I have CSV file like below and i want to calcu...</td>\n",
       "      <td>&lt;p&gt;This is a perfect task for pandas:&lt;/p&gt;\\n\\n&lt;...</td>\n",
       "      <td>[python, csv]</td>\n",
       "    </tr>\n",
       "    <tr>\n",
       "      <td>139540</td>\n",
       "      <td>14108355</td>\n",
       "      <td>Python - how do I force the use of a factory m...</td>\n",
       "      <td>I have a set of related classes that all inher...</td>\n",
       "      <td>&lt;p&gt;In Python, it's almost never worth trying t...</td>\n",
       "      <td>[python, class-factory]</td>\n",
       "    </tr>\n",
       "    <tr>\n",
       "      <td>24474</td>\n",
       "      <td>3016974</td>\n",
       "      <td>How to get text in QlineEdit when QpushButton ...</td>\n",
       "      <td>I am trying to implement a function. My code i...</td>\n",
       "      <td>&lt;p&gt;My first suggestion is to use Designer to c...</td>\n",
       "      <td>[python, pyqt4, qlineedit]</td>\n",
       "    </tr>\n",
       "    <tr>\n",
       "      <td>56210</td>\n",
       "      <td>6182967</td>\n",
       "      <td>How to format a MySQL query into JSON using we...</td>\n",
       "      <td>I am trying to query a MySQL database using we...</td>\n",
       "      <td>&lt;p&gt;You can extend json.JSONEncoder to handle d...</td>\n",
       "      <td>[python, mysql, json, web.py]</td>\n",
       "    </tr>\n",
       "    <tr>\n",
       "      <td>95932</td>\n",
       "      <td>10183313</td>\n",
       "      <td>cvWriteFrame throws IplImage * : could not con...</td>\n",
       "      <td>I am trying to build a video from jpeg images ...</td>\n",
       "      <td>&lt;p&gt;&lt;code&gt;cvWriteFrame()&lt;/code&gt; needs a valid &lt;...</td>\n",
       "      <td>[python, opencv]</td>\n",
       "    </tr>\n",
       "  </tbody>\n",
       "</table>\n",
       "</div>"
      ],
      "text/plain": [
       "              Id                                              Title  \\\n",
       "386445  31556460  How to find the median and standard deviation ...   \n",
       "139540  14108355  Python - how do I force the use of a factory m...   \n",
       "24474    3016974  How to get text in QlineEdit when QpushButton ...   \n",
       "56210    6182967  How to format a MySQL query into JSON using we...   \n",
       "95932   10183313  cvWriteFrame throws IplImage * : could not con...   \n",
       "\n",
       "                                                   Body_q  \\\n",
       "386445  I have CSV file like below and i want to calcu...   \n",
       "139540  I have a set of related classes that all inher...   \n",
       "24474   I am trying to implement a function. My code i...   \n",
       "56210   I am trying to query a MySQL database using we...   \n",
       "95932   I am trying to build a video from jpeg images ...   \n",
       "\n",
       "                                                   Body_a  \\\n",
       "386445  <p>This is a perfect task for pandas:</p>\\n\\n<...   \n",
       "139540  <p>In Python, it's almost never worth trying t...   \n",
       "24474   <p>My first suggestion is to use Designer to c...   \n",
       "56210   <p>You can extend json.JSONEncoder to handle d...   \n",
       "95932   <p><code>cvWriteFrame()</code> needs a valid <...   \n",
       "\n",
       "                                 tags  \n",
       "386445                  [python, csv]  \n",
       "139540        [python, class-factory]  \n",
       "24474      [python, pyqt4, qlineedit]  \n",
       "56210   [python, mysql, json, web.py]  \n",
       "95932                [python, opencv]  "
      ]
     },
     "execution_count": 7,
     "metadata": {},
     "output_type": "execute_result"
    }
   ],
   "source": [
    "sample = df.sample(10000)\n",
    "remove_html_tags(sample, [\"Body_q\"])\n",
    "sample.head()"
   ]
  },
  {
   "cell_type": "code",
   "execution_count": 8,
   "metadata": {},
   "outputs": [
    {
     "data": {
      "text/plain": [
       "'I\\'m trying to access some values that are nested as an ajax response from a website.\\nEverything is output as one giant line that I can\\'t manage to navigate down. However to give you an idea of what it looks like, the pprint of the dictionary is something like: \\n    {u\\'d\\': {u\\'Type\\': None,\\n    u\\'__type\\': u\\'TOPS.ajaxResponse\\',\\n    u\\'actionOnSuccess\\': None,\\n    u\\'data\\': u\\'{\"BasicCodes\":{\"PRODUCTPRICES\":[{\"ProductId\":\"ProductA\",\"CategoryId\":\"1\",\"Color\":\"Red\",\"Quantity\":\"0\"},{\"ProductId\":\"ProductA\",\"CategoryId\":\"2\",\"Color\":\"Blue\",\"Quantity\":\"0\"},{\"ProductId\":\"ProductB\",\"CategoryId\":\"1\",\"Color\":\"Red\",\"Quantity\":\"0\"},{\"ProductId\":\"ProductB\",\"CategoryId\":\"2\",\"Color\":\"Blue\",\"Quantity\":\"0\"}, ...and so on...\\n\\n    .\\n    .\\n    .\\n\\n    u\\'data2\\': None,\\n    u\\'dataExtra\\': None,\\n    u\\'errors\\': [],\\n    u\\'general_message\\': None,\\n    u\\'success\\': True}}\\n\\nThere are hundreds of products listed (ProductA, ProductB, etc), but all I want to do is get the number associated with \"Quantity\" from a specific product like ProductB, Color Blue, for example.\\nI load the response as a dictionary by using\\n    json_data = urllib2.urlopen(\\'website\\')\\n    content = json_data.read()\\n    dictionary = json.loads(content)\\n\\ndictionary.keys() only outputs \\'d\\', and dictionary.values() outputs EVERYTHING besides that, including things like u\\'success\\': True, which I would expect to be a separate key/value combo. If I try to navigate down the dictionary by using \\n    print dictionary[\\'d\\'][\\'data\\'][\\'BasicCodes\\'][\\'PRODUCTPRICES\\'][0][\\'Quantity\\']\\n\\nI get an error of TypeError: string indices must be integers.\\nIs the problem how I am loading the data? Or am I missing something as I navigate the keys and values? \\nNot sure if it is related/relevant, but I also get an error \\'unicode\\' object has no attribute \\'values\\' when I input\\n    dictionary[\\'d\\'][\\'data\\'].values()\\n\\nI\\'m new to Python so any help would be appreciated on this.\\n'"
      ]
     },
     "execution_count": 8,
     "metadata": {},
     "output_type": "execute_result"
    }
   ],
   "source": [
    "sample[\"Body_q\"].iloc[100]"
   ]
  },
  {
   "cell_type": "markdown",
   "metadata": {},
   "source": [
    "### Clean Data"
   ]
  },
  {
   "cell_type": "code",
   "execution_count": 14,
   "metadata": {},
   "outputs": [
    {
     "name": "stdout",
     "output_type": "stream",
     "text": [
      "(9995, 5)\n",
      "(9995, 5)\n",
      "deleting element pandas from top_tags\n"
     ]
    },
    {
     "data": {
      "text/plain": [
       "'\\n\\nhallo\\n'"
      ]
     },
     "execution_count": 14,
     "metadata": {},
     "output_type": "execute_result"
    }
   ],
   "source": [
    "# we have some nans in our tags which break target encoding\n",
    "print(sample.shape)\n",
    "sample = sample[sample[\"tags\"].apply(lambda tags: all([isinstance(t, str) for t in tags]))]\n",
    "print(sample.shape)\n",
    "\n",
    "\n",
    "# Reduce the number of tags and adjust dataframe accordingly\n",
    "reduce_number_of_tags(sample, 100)\n",
    "sample.shape\n"
   ]
  },
  {
   "cell_type": "code",
   "execution_count": 13,
   "metadata": {},
   "outputs": [
    {
     "data": {
      "text/plain": [
       "386445                  [csv]\n",
       "139540                     []\n",
       "24474                 [pyqt4]\n",
       "56210           [mysql, json]\n",
       "95932                [opencv]\n",
       "28035               [tkinter]\n",
       "438255                     []\n",
       "456381    [pandas, dataframe]\n",
       "210901                     []\n",
       "387790                     []\n",
       "Name: tags, dtype: object"
      ]
     },
     "execution_count": 13,
     "metadata": {},
     "output_type": "execute_result"
    }
   ],
   "source": [
    "sample[\"tags\"].head(10)"
   ]
  },
  {
   "cell_type": "markdown",
   "metadata": {},
   "source": [
    "### Prepare Training and Test data"
   ]
  },
  {
   "cell_type": "code",
   "execution_count": 58,
   "metadata": {},
   "outputs": [
    {
     "name": "stdout",
     "output_type": "stream",
     "text": [
      "(2815, 6)\n",
      "(704, 6)\n"
     ]
    }
   ],
   "source": [
    "# Tokenize text into words on question level\n",
    "sample[\"q_all_body_tokenized\"] = sample[\"Body_q\"].apply(generate_question_level_tokens)\n",
    "data = sample[sample[\"q_all_body_tokenized\"].apply(len) <= 100]\n",
    "train_data, test_data = train_test_split(data, test_size = 0.2)\n",
    "print(train_data.shape)\n",
    "print(test_data.shape)"
   ]
  },
  {
   "cell_type": "code",
   "execution_count": 59,
   "metadata": {},
   "outputs": [
    {
     "name": "stdout",
     "output_type": "stream",
     "text": [
      "[\"I know you can disable resizing; however I'd like it so when the window was resized it stuck to a certain width to height ratio\", 'Say a way to take a Python Unicode string and pass it to a C function which catenates it with itself and returns that to Python which prints it']\n",
      "['i', 'know', 'you', 'can', 'disable', 'resizing', ';', 'however', 'i', \"'d\", 'like', 'it', 'so', 'when', 'the', 'window', 'was', 'resized', 'it', 'stuck', 'to', 'a', 'certain', 'width', 'to', 'height', 'ratio']\n"
     ]
    }
   ],
   "source": [
    "# train word embeddings ONLY with training data\n",
    "# wv = create_Word2Vec_embeddings(train_data, \"Body_q\")\n",
    "# Use FastText to include solution for out-of-vocab words\n",
    "wv = create_FastText_embedding(train_data, \"Body_q\")"
   ]
  },
  {
   "cell_type": "code",
   "execution_count": 72,
   "metadata": {},
   "outputs": [],
   "source": [
    "X_train = train_data[\"q_all_body_tokenized\"].apply(lambda x: np.array([wv[w] for w in x]))"
   ]
  },
  {
   "cell_type": "code",
   "execution_count": 73,
   "metadata": {},
   "outputs": [
    {
     "data": {
      "text/plain": [
       "(2815, 100, 100)"
      ]
     },
     "execution_count": 73,
     "metadata": {},
     "output_type": "execute_result"
    }
   ],
   "source": [
    "X_train_padded = pad_sequences(X_train, padding=\"post\")\n",
    "X_train_padded.shape"
   ]
  },
  {
   "cell_type": "code",
   "execution_count": 74,
   "metadata": {},
   "outputs": [],
   "source": [
    "label_encoder = MultiLabelBinarizer()\n",
    "label_encoder.fit(train_data[\"tags\"])\n",
    "y_train = label_encoder.transform(train_data[\"tags\"])"
   ]
  },
  {
   "cell_type": "code",
   "execution_count": 77,
   "metadata": {},
   "outputs": [],
   "source": [
    "X_test = test_data[\"q_all_body_tokenized\"].apply(lambda x: np.array([wv[w] for w in x]))\n",
    "y_test = label_encoder.transform(test_data[\"tags\"])"
   ]
  },
  {
   "cell_type": "markdown",
   "metadata": {},
   "source": [
    "### Train Model"
   ]
  },
  {
   "cell_type": "code",
   "execution_count": 78,
   "metadata": {},
   "outputs": [
    {
     "name": "stdout",
     "output_type": "stream",
     "text": [
      "Model: \"sequential_1\"\n",
      "_________________________________________________________________\n",
      "Layer (type)                 Output Shape              Param #   \n",
      "=================================================================\n",
      "lstm_1 (LSTM)                (None, 32)                17024     \n",
      "_________________________________________________________________\n",
      "dense_1 (Dense)              (None, 100)               3300      \n",
      "=================================================================\n",
      "Total params: 20,324\n",
      "Trainable params: 20,324\n",
      "Non-trainable params: 0\n",
      "_________________________________________________________________\n"
     ]
    }
   ],
   "source": [
    "model = create_model(embedding_dim=100, output_dim=100)\n",
    "model.summary()"
   ]
  },
  {
   "cell_type": "code",
   "execution_count": 79,
   "metadata": {},
   "outputs": [
    {
     "name": "stdout",
     "output_type": "stream",
     "text": [
      "Train on 2815 samples\n",
      "Epoch 1/10\n",
      "2815/2815 [==============================] - 3s 947us/sample - loss: 0.2322\n",
      "Epoch 2/10\n",
      "2815/2815 [==============================] - 0s 86us/sample - loss: 0.1177\n",
      "Epoch 3/10\n",
      "2815/2815 [==============================] - 0s 94us/sample - loss: 0.0448\n",
      "Epoch 4/10\n",
      "2815/2815 [==============================] - 0s 105us/sample - loss: 0.0239\n",
      "Epoch 5/10\n",
      "2815/2815 [==============================] - 0s 151us/sample - loss: 0.0188\n",
      "Epoch 6/10\n",
      "2815/2815 [==============================] - 0s 128us/sample - loss: 0.0170\n",
      "Epoch 7/10\n",
      "2815/2815 [==============================] - 0s 98us/sample - loss: 0.0161\n",
      "Epoch 8/10\n",
      "2815/2815 [==============================] - 0s 120us/sample - loss: 0.0155\n",
      "Epoch 9/10\n",
      "2815/2815 [==============================] - 0s 148us/sample - loss: 0.0151\n",
      "Epoch 10/10\n",
      "2815/2815 [==============================] - 0s 166us/sample - loss: 0.0149\n"
     ]
    },
    {
     "data": {
      "text/plain": [
       "<tensorflow.python.keras.callbacks.History at 0x174a0116448>"
      ]
     },
     "execution_count": 79,
     "metadata": {},
     "output_type": "execute_result"
    }
   ],
   "source": [
    "model.fit(x=X_train_padded, y=y_train, batch_size=128, epochs=10)"
   ]
  },
  {
   "cell_type": "code",
   "execution_count": 29,
   "metadata": {},
   "outputs": [
    {
     "data": {
      "text/html": [
       "<div>\n",
       "<style scoped>\n",
       "    .dataframe tbody tr th:only-of-type {\n",
       "        vertical-align: middle;\n",
       "    }\n",
       "\n",
       "    .dataframe tbody tr th {\n",
       "        vertical-align: top;\n",
       "    }\n",
       "\n",
       "    .dataframe thead th {\n",
       "        text-align: right;\n",
       "    }\n",
       "</style>\n",
       "<table border=\"1\" class=\"dataframe\">\n",
       "  <thead>\n",
       "    <tr style=\"text-align: right;\">\n",
       "      <th></th>\n",
       "      <th>Id</th>\n",
       "      <th>Title</th>\n",
       "      <th>Body_q</th>\n",
       "      <th>Body_a</th>\n",
       "      <th>tags</th>\n",
       "      <th>q_all_body_tokenized</th>\n",
       "    </tr>\n",
       "  </thead>\n",
       "  <tbody>\n",
       "    <tr>\n",
       "      <td>518827</td>\n",
       "      <td>39014670</td>\n",
       "      <td>(centos6.6) before updating python2.7.3 ,it is...</td>\n",
       "      <td>(centos6.6) before updating python2.7.3 ,it is...</td>\n",
       "      <td>&lt;p&gt;Reasons could be any of the following:&lt;/p&gt;\\...</td>\n",
       "      <td>[linux]</td>\n",
       "      <td>[(, centos6.6, ), before, updating, python2.7....</td>\n",
       "    </tr>\n",
       "    <tr>\n",
       "      <td>180026</td>\n",
       "      <td>17518304</td>\n",
       "      <td>run python file in python shell</td>\n",
       "      <td>I have a python file (my_code.py) in Home/Pyth...</td>\n",
       "      <td>&lt;p&gt;You should expand tilde(~) to actual path. ...</td>\n",
       "      <td>[ubuntu]</td>\n",
       "      <td>[i, have, a, python, file, (, my_code.py, ), i...</td>\n",
       "    </tr>\n",
       "    <tr>\n",
       "      <td>268332</td>\n",
       "      <td>24024736</td>\n",
       "      <td>How to generate random int around specific mean?</td>\n",
       "      <td>I need to generate 100 age values between 23 a...</td>\n",
       "      <td>&lt;p&gt;I think you could populate an array of size...</td>\n",
       "      <td>[random]</td>\n",
       "      <td>[i, need, to, generate, 100, age, values, betw...</td>\n",
       "    </tr>\n",
       "    <tr>\n",
       "      <td>480028</td>\n",
       "      <td>36843984</td>\n",
       "      <td>Django REST Framework - NoReverseMatch when us...</td>\n",
       "      <td>I've been trying to return some URLs using the...</td>\n",
       "      <td>&lt;p&gt;You shouldn't pass the request:&lt;/p&gt;\\n\\n&lt;pre...</td>\n",
       "      <td>[django, django-rest-framework]</td>\n",
       "      <td>[i, 've, been, trying, to, return, some, urls,...</td>\n",
       "    </tr>\n",
       "    <tr>\n",
       "      <td>24471</td>\n",
       "      <td>3016497</td>\n",
       "      <td>How to create a translucid/alpha-transparent r...</td>\n",
       "      <td>I have a wx.panel and I want to put a transluc...</td>\n",
       "      <td>&lt;p&gt;You can do this using a &lt;a href=\"http://www...</td>\n",
       "      <td>[wxpython]</td>\n",
       "      <td>[i, have, a, wx.panel, and, i, want, to, put, ...</td>\n",
       "    </tr>\n",
       "  </tbody>\n",
       "</table>\n",
       "</div>"
      ],
      "text/plain": [
       "              Id                                              Title  \\\n",
       "518827  39014670  (centos6.6) before updating python2.7.3 ,it is...   \n",
       "180026  17518304                    run python file in python shell   \n",
       "268332  24024736   How to generate random int around specific mean?   \n",
       "480028  36843984  Django REST Framework - NoReverseMatch when us...   \n",
       "24471    3016497  How to create a translucid/alpha-transparent r...   \n",
       "\n",
       "                                                   Body_q  \\\n",
       "518827  (centos6.6) before updating python2.7.3 ,it is...   \n",
       "180026  I have a python file (my_code.py) in Home/Pyth...   \n",
       "268332  I need to generate 100 age values between 23 a...   \n",
       "480028  I've been trying to return some URLs using the...   \n",
       "24471   I have a wx.panel and I want to put a transluc...   \n",
       "\n",
       "                                                   Body_a  \\\n",
       "518827  <p>Reasons could be any of the following:</p>\\...   \n",
       "180026  <p>You should expand tilde(~) to actual path. ...   \n",
       "268332  <p>I think you could populate an array of size...   \n",
       "480028  <p>You shouldn't pass the request:</p>\\n\\n<pre...   \n",
       "24471   <p>You can do this using a <a href=\"http://www...   \n",
       "\n",
       "                                   tags  \\\n",
       "518827                          [linux]   \n",
       "180026                         [ubuntu]   \n",
       "268332                         [random]   \n",
       "480028  [django, django-rest-framework]   \n",
       "24471                        [wxpython]   \n",
       "\n",
       "                                     q_all_body_tokenized  \n",
       "518827  [(, centos6.6, ), before, updating, python2.7....  \n",
       "180026  [i, have, a, python, file, (, my_code.py, ), i...  \n",
       "268332  [i, need, to, generate, 100, age, values, betw...  \n",
       "480028  [i, 've, been, trying, to, return, some, urls,...  \n",
       "24471   [i, have, a, wx.panel, and, i, want, to, put, ...  "
      ]
     },
     "execution_count": 29,
     "metadata": {},
     "output_type": "execute_result"
    }
   ],
   "source": [
    "train_data.head()"
   ]
  }
 ],
 "metadata": {
  "kernelspec": {
   "display_name": "Python 3",
   "language": "python",
   "name": "python3"
  },
  "language_info": {
   "codemirror_mode": {
    "name": "ipython",
    "version": 3
   },
   "file_extension": ".py",
   "mimetype": "text/x-python",
   "name": "python",
   "nbconvert_exporter": "python",
   "pygments_lexer": "ipython3",
   "version": "3.7.4"
  },
  "varInspector": {
   "cols": {
    "lenName": 16,
    "lenType": 16,
    "lenVar": 40
   },
   "kernels_config": {
    "python": {
     "delete_cmd_postfix": "",
     "delete_cmd_prefix": "del ",
     "library": "var_list.py",
     "varRefreshCmd": "print(var_dic_list())"
    },
    "r": {
     "delete_cmd_postfix": ") ",
     "delete_cmd_prefix": "rm(",
     "library": "var_list.r",
     "varRefreshCmd": "cat(var_dic_list()) "
    }
   },
   "types_to_exclude": [
    "module",
    "function",
    "builtin_function_or_method",
    "instance",
    "_Feature"
   ],
   "window_display": false
  }
 },
 "nbformat": 4,
 "nbformat_minor": 4
}
